{
 "cells": [
  {
   "cell_type": "code",
   "execution_count": 44,
   "metadata": {},
   "outputs": [],
   "source": [
    "import argparse\n",
    "import json\n",
    "import os\n",
    "import logging\n",
    "import yaml\n",
    "from kafka import KafkaProducer\n",
    "from schema import Schema, SchemaError\n",
    "log = logging.getLogger()\n",
    "logging.basicConfig(level=os.environ.get(\"LOGLEVEL\", \"INFO\"))"
   ]
  },
  {
   "cell_type": "code",
   "execution_count": 45,
   "metadata": {},
   "outputs": [],
   "source": [
    "def add_value(key):\n",
    "    match key:\n",
    "        case 'technology':\n",
    "            print(key)\n",
    "            \n",
    "        case 'hostedAt':\n",
    "            print(key)"
   ]
  },
  {
   "cell_type": "code",
   "execution_count": 46,
   "metadata": {},
   "outputs": [],
   "source": [
    "from schema import Schema, SchemaError, Optional, Hook, Or\n",
    "\n",
    "schema_val = {\n",
    "    \"name\": str,\n",
    "    \"description\": str,\n",
    "    \"status\": str,\n",
    "\n",
    "    \"consumers\": {\n",
    "        \"name\": str,\n",
    "        \"description\": str,\n",
    "        \"type\" : str\n",
    "    },\n",
    "\n",
    "    \"containers\": {\n",
    "        \"name\": str,\n",
    "        \"sysnonyms\": str,\n",
    "        \"description\": str,\n",
    "        Optional(\"technology\", default= lambda : add_value('technology')): str,\n",
    "        \"parentSystem\": str,\n",
    "        \"ciDataOwner\": str,\n",
    "        \"productOwner\": str,\n",
    "        \"applicationType\": Or(\"Business\", \"Customer Facing\", \"External Service\", \"Infrastructure\", \"Interface\", \"Office\", \"Tool\", \"Unknown\"),\n",
    "        Optional(\"hostedAt\", default = lambda : add_value('hostedAt')): Or(\"Amazon Web Services (AWS Cloud)\", \"AT&T\", \"Azure CF1\", \"Azure CF2\", \"Azure Cloud\", \"DXC\", \"Equinix\", \"Google Cloud Platform\", \"Hybric\", \"Inlumi\", \"Local server\", \"Multi-Cloud\", \"Not Applicable\", \"Other\", \"Salesforce\", \"ServiceNow\", \"Solvinity\", \"Unit4\", \"Unknown\", \"User device\", \"Azure\"),\n",
    "        \"deploymentModel\": Or(\"BPO\", \"CaaS\", \"IaaS\", \"On-Premise\", \"PaaS\", \"SaaS\"),\n",
    "        \"personalData\": bool,\n",
    "        \"confidentiality\": str,\n",
    "        \"mcv\": Or(\"Highly business critical\", \"Business critical\", \"Not business critical\", \"Not applicable\"),\n",
    "        \"maxSeverityLevel\": Or(1,2,3,4, \"Not applicable\"),\n",
    "        Optional(\"sox\", default= lambda : add_value('sox')): bool,\n",
    "        Optional(\"icfr\", default= lambda : add_value('icfr')): bool,\n",
    "        \"assignementGroup\": str,\n",
    "        \"operationalStatus\": Or(\"Pipelined\", \"Operational\", \"Non-Operational\", \"Submitted for decommissioning\", \"Decommissioned\", \"In decommissioning process\"),\n",
    "        \"environments\": Or(\"nl\", \"be\"),\n",
    "        \"relationships\": {\n",
    "            \"type\": str,\n",
    "            \"container\": {\n",
    "                \"name\": str,\n",
    "            },\n",
    "        },\n",
    "        \"components\": {\n",
    "            \"name\": str,\n",
    "            \"description\": str,\n",
    "            \"exposedAPIs\": {\n",
    "                \"name\": str,\n",
    "                \"description\": str,\n",
    "                \"type\": str,\n",
    "                \"status\": str,\n",
    "            },\n",
    "            \"consumedAPIs\": {\n",
    "                \"name\": str,\n",
    "                \"description\": str,\n",
    "                \"status\": str\n",
    "            }\n",
    "        },\n",
    "    }\n",
    "}"
   ]
  },
  {
   "cell_type": "code",
   "execution_count": 47,
   "metadata": {},
   "outputs": [],
   "source": [
    "def validate_yaml(yaml_data):\n",
    "    #schema = eval(open('./schema.yml', 'r').read())\n",
    "    validator = Schema(schema_val)\n",
    "    try:\n",
    "        validator.validate(yaml_data)\n",
    "        print('YML valid')\n",
    "    except SchemaError as se:\n",
    "        print(se)"
   ]
  },
  {
   "cell_type": "code",
   "execution_count": 48,
   "metadata": {},
   "outputs": [],
   "source": [
    "def load_doc():\n",
    "    with open('./test.yml', 'r') as stream:\n",
    "        try:\n",
    "            return yaml.safe_load(stream)\n",
    "        except yaml.YAMLError as e:\n",
    "            print(e)"
   ]
  },
  {
   "cell_type": "code",
   "execution_count": 49,
   "metadata": {},
   "outputs": [
    {
     "name": "stdout",
     "output_type": "stream",
     "text": [
      "YML valid\n"
     ]
    }
   ],
   "source": [
    "doc = load_doc()\n",
    "validate_yaml(doc)"
   ]
  }
 ],
 "metadata": {
  "kernelspec": {
   "display_name": "Python 3.10.6 64-bit",
   "language": "python",
   "name": "python3"
  },
  "language_info": {
   "codemirror_mode": {
    "name": "ipython",
    "version": 3
   },
   "file_extension": ".py",
   "mimetype": "text/x-python",
   "name": "python",
   "nbconvert_exporter": "python",
   "pygments_lexer": "ipython3",
   "version": "3.10.6"
  },
  "orig_nbformat": 4,
  "vscode": {
   "interpreter": {
    "hash": "916dbcbb3f70747c44a77c7bcd40155683ae19c65e1c03b4aa3499c5328201f1"
   }
  }
 },
 "nbformat": 4,
 "nbformat_minor": 2
}
